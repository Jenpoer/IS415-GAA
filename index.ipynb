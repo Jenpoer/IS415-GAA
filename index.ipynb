{
  "cells": [
    {
      "cell_type": "raw",
      "metadata": {},
      "source": [
        "---\n",
        "title: \"IS415-GAA\"\n",
        "---"
      ],
      "id": "28dda01c"
    },
    {
      "cell_type": "markdown",
      "metadata": {},
      "source": [
        "Jennifer Poernomo\n",
        "\n",
        "```{1 + 1}\n",
        "```"
      ],
      "id": "71c61807"
    }
  ],
  "metadata": {
    "kernelspec": {
      "display_name": "Python 3",
      "language": "python",
      "name": "python3"
    }
  },
  "nbformat": 4,
  "nbformat_minor": 5
}